{
 "cells": [
  {
   "cell_type": "code",
   "execution_count": 38,
   "id": "c625b43c",
   "metadata": {
    "ExecuteTime": {
     "end_time": "2021-05-27T19:53:17.238853Z",
     "start_time": "2021-05-27T19:53:17.235768Z"
    }
   },
   "outputs": [],
   "source": [
    "!pip install dscreate -q\n",
    "import pandas as pd\n",
    "from dscreate.tests import Tests\n",
    "from test_script import Test\n",
    "test = Test()\n",
    "function_test = Tests()"
   ]
  },
  {
   "cell_type": "code",
   "execution_count": 2,
   "id": "85cda57c",
   "metadata": {
    "ExecuteTime": {
     "end_time": "2021-05-27T19:40:11.310270Z",
     "start_time": "2021-05-27T19:40:11.276264Z"
    }
   },
   "outputs": [],
   "source": [
    "df = pd.read_csv('Daegu_Real_Estate_data.csv')"
   ]
  },
  {
   "cell_type": "code",
   "execution_count": 3,
   "id": "7786ddd7",
   "metadata": {
    "ExecuteTime": {
     "end_time": "2021-05-27T19:40:11.361767Z",
     "start_time": "2021-05-27T19:40:11.313379Z"
    }
   },
   "outputs": [
    {
     "data": {
      "text/html": [
       "<div>\n",
       "<style scoped>\n",
       "    .dataframe tbody tr th:only-of-type {\n",
       "        vertical-align: middle;\n",
       "    }\n",
       "\n",
       "    .dataframe tbody tr th {\n",
       "        vertical-align: top;\n",
       "    }\n",
       "\n",
       "    .dataframe thead th {\n",
       "        text-align: right;\n",
       "    }\n",
       "</style>\n",
       "<table border=\"1\" class=\"dataframe\">\n",
       "  <thead>\n",
       "    <tr style=\"text-align: right;\">\n",
       "      <th></th>\n",
       "      <th>SalePrice</th>\n",
       "      <th>YearBuilt</th>\n",
       "      <th>YrSold</th>\n",
       "      <th>MonthSold</th>\n",
       "      <th>Size(sqf)</th>\n",
       "      <th>Floor</th>\n",
       "      <th>HallwayType</th>\n",
       "      <th>HeatingType</th>\n",
       "      <th>AptManageType</th>\n",
       "      <th>N_Parkinglot(Ground)</th>\n",
       "      <th>...</th>\n",
       "      <th>N_FacilitiesNearBy(Mall)</th>\n",
       "      <th>N_FacilitiesNearBy(ETC)</th>\n",
       "      <th>N_FacilitiesNearBy(Park)</th>\n",
       "      <th>N_SchoolNearBy(Elementary)</th>\n",
       "      <th>N_SchoolNearBy(Middle)</th>\n",
       "      <th>N_SchoolNearBy(High)</th>\n",
       "      <th>N_SchoolNearBy(University)</th>\n",
       "      <th>N_FacilitiesInApt</th>\n",
       "      <th>N_FacilitiesNearBy(Total)</th>\n",
       "      <th>N_SchoolNearBy(Total)</th>\n",
       "    </tr>\n",
       "  </thead>\n",
       "  <tbody>\n",
       "    <tr>\n",
       "      <th>0</th>\n",
       "      <td>141592</td>\n",
       "      <td>2006</td>\n",
       "      <td>2007</td>\n",
       "      <td>8</td>\n",
       "      <td>814</td>\n",
       "      <td>3</td>\n",
       "      <td>terraced</td>\n",
       "      <td>individual_heating</td>\n",
       "      <td>management_in_trust</td>\n",
       "      <td>111.0</td>\n",
       "      <td>...</td>\n",
       "      <td>1.0</td>\n",
       "      <td>1.0</td>\n",
       "      <td>0.0</td>\n",
       "      <td>3.0</td>\n",
       "      <td>2.0</td>\n",
       "      <td>2.0</td>\n",
       "      <td>2.0</td>\n",
       "      <td>5</td>\n",
       "      <td>6.0</td>\n",
       "      <td>9.0</td>\n",
       "    </tr>\n",
       "    <tr>\n",
       "      <th>1</th>\n",
       "      <td>51327</td>\n",
       "      <td>1985</td>\n",
       "      <td>2007</td>\n",
       "      <td>8</td>\n",
       "      <td>587</td>\n",
       "      <td>8</td>\n",
       "      <td>corridor</td>\n",
       "      <td>individual_heating</td>\n",
       "      <td>self_management</td>\n",
       "      <td>80.0</td>\n",
       "      <td>...</td>\n",
       "      <td>1.0</td>\n",
       "      <td>2.0</td>\n",
       "      <td>1.0</td>\n",
       "      <td>2.0</td>\n",
       "      <td>1.0</td>\n",
       "      <td>1.0</td>\n",
       "      <td>0.0</td>\n",
       "      <td>3</td>\n",
       "      <td>12.0</td>\n",
       "      <td>4.0</td>\n",
       "    </tr>\n",
       "    <tr>\n",
       "      <th>2</th>\n",
       "      <td>48672</td>\n",
       "      <td>1985</td>\n",
       "      <td>2007</td>\n",
       "      <td>8</td>\n",
       "      <td>587</td>\n",
       "      <td>6</td>\n",
       "      <td>corridor</td>\n",
       "      <td>individual_heating</td>\n",
       "      <td>self_management</td>\n",
       "      <td>80.0</td>\n",
       "      <td>...</td>\n",
       "      <td>1.0</td>\n",
       "      <td>2.0</td>\n",
       "      <td>1.0</td>\n",
       "      <td>2.0</td>\n",
       "      <td>1.0</td>\n",
       "      <td>1.0</td>\n",
       "      <td>0.0</td>\n",
       "      <td>3</td>\n",
       "      <td>12.0</td>\n",
       "      <td>4.0</td>\n",
       "    </tr>\n",
       "    <tr>\n",
       "      <th>3</th>\n",
       "      <td>380530</td>\n",
       "      <td>2006</td>\n",
       "      <td>2007</td>\n",
       "      <td>8</td>\n",
       "      <td>2056</td>\n",
       "      <td>8</td>\n",
       "      <td>terraced</td>\n",
       "      <td>individual_heating</td>\n",
       "      <td>management_in_trust</td>\n",
       "      <td>249.0</td>\n",
       "      <td>...</td>\n",
       "      <td>1.0</td>\n",
       "      <td>0.0</td>\n",
       "      <td>0.0</td>\n",
       "      <td>2.0</td>\n",
       "      <td>2.0</td>\n",
       "      <td>1.0</td>\n",
       "      <td>2.0</td>\n",
       "      <td>5</td>\n",
       "      <td>3.0</td>\n",
       "      <td>7.0</td>\n",
       "    </tr>\n",
       "    <tr>\n",
       "      <th>4</th>\n",
       "      <td>221238</td>\n",
       "      <td>1993</td>\n",
       "      <td>2007</td>\n",
       "      <td>8</td>\n",
       "      <td>1761</td>\n",
       "      <td>3</td>\n",
       "      <td>mixed</td>\n",
       "      <td>individual_heating</td>\n",
       "      <td>management_in_trust</td>\n",
       "      <td>523.0</td>\n",
       "      <td>...</td>\n",
       "      <td>1.0</td>\n",
       "      <td>5.0</td>\n",
       "      <td>0.0</td>\n",
       "      <td>4.0</td>\n",
       "      <td>3.0</td>\n",
       "      <td>5.0</td>\n",
       "      <td>5.0</td>\n",
       "      <td>4</td>\n",
       "      <td>14.0</td>\n",
       "      <td>17.0</td>\n",
       "    </tr>\n",
       "    <tr>\n",
       "      <th>...</th>\n",
       "      <td>...</td>\n",
       "      <td>...</td>\n",
       "      <td>...</td>\n",
       "      <td>...</td>\n",
       "      <td>...</td>\n",
       "      <td>...</td>\n",
       "      <td>...</td>\n",
       "      <td>...</td>\n",
       "      <td>...</td>\n",
       "      <td>...</td>\n",
       "      <td>...</td>\n",
       "      <td>...</td>\n",
       "      <td>...</td>\n",
       "      <td>...</td>\n",
       "      <td>...</td>\n",
       "      <td>...</td>\n",
       "      <td>...</td>\n",
       "      <td>...</td>\n",
       "      <td>...</td>\n",
       "      <td>...</td>\n",
       "      <td>...</td>\n",
       "    </tr>\n",
       "    <tr>\n",
       "      <th>5886</th>\n",
       "      <td>511504</td>\n",
       "      <td>2007</td>\n",
       "      <td>2017</td>\n",
       "      <td>8</td>\n",
       "      <td>1643</td>\n",
       "      <td>19</td>\n",
       "      <td>terraced</td>\n",
       "      <td>individual_heating</td>\n",
       "      <td>management_in_trust</td>\n",
       "      <td>0.0</td>\n",
       "      <td>...</td>\n",
       "      <td>1.0</td>\n",
       "      <td>0.0</td>\n",
       "      <td>2.0</td>\n",
       "      <td>3.0</td>\n",
       "      <td>3.0</td>\n",
       "      <td>2.0</td>\n",
       "      <td>2.0</td>\n",
       "      <td>10</td>\n",
       "      <td>9.0</td>\n",
       "      <td>10.0</td>\n",
       "    </tr>\n",
       "    <tr>\n",
       "      <th>5887</th>\n",
       "      <td>298230</td>\n",
       "      <td>2006</td>\n",
       "      <td>2017</td>\n",
       "      <td>8</td>\n",
       "      <td>903</td>\n",
       "      <td>13</td>\n",
       "      <td>terraced</td>\n",
       "      <td>individual_heating</td>\n",
       "      <td>management_in_trust</td>\n",
       "      <td>123.0</td>\n",
       "      <td>...</td>\n",
       "      <td>1.0</td>\n",
       "      <td>2.0</td>\n",
       "      <td>0.0</td>\n",
       "      <td>4.0</td>\n",
       "      <td>3.0</td>\n",
       "      <td>3.0</td>\n",
       "      <td>1.0</td>\n",
       "      <td>4</td>\n",
       "      <td>8.0</td>\n",
       "      <td>11.0</td>\n",
       "    </tr>\n",
       "    <tr>\n",
       "      <th>5888</th>\n",
       "      <td>357522</td>\n",
       "      <td>2007</td>\n",
       "      <td>2017</td>\n",
       "      <td>8</td>\n",
       "      <td>868</td>\n",
       "      <td>20</td>\n",
       "      <td>terraced</td>\n",
       "      <td>individual_heating</td>\n",
       "      <td>management_in_trust</td>\n",
       "      <td>0.0</td>\n",
       "      <td>...</td>\n",
       "      <td>1.0</td>\n",
       "      <td>0.0</td>\n",
       "      <td>2.0</td>\n",
       "      <td>3.0</td>\n",
       "      <td>3.0</td>\n",
       "      <td>2.0</td>\n",
       "      <td>2.0</td>\n",
       "      <td>10</td>\n",
       "      <td>9.0</td>\n",
       "      <td>10.0</td>\n",
       "    </tr>\n",
       "    <tr>\n",
       "      <th>5889</th>\n",
       "      <td>312389</td>\n",
       "      <td>1978</td>\n",
       "      <td>2017</td>\n",
       "      <td>8</td>\n",
       "      <td>1327</td>\n",
       "      <td>1</td>\n",
       "      <td>corridor</td>\n",
       "      <td>individual_heating</td>\n",
       "      <td>self_management</td>\n",
       "      <td>87.0</td>\n",
       "      <td>...</td>\n",
       "      <td>1.0</td>\n",
       "      <td>0.0</td>\n",
       "      <td>0.0</td>\n",
       "      <td>3.0</td>\n",
       "      <td>3.0</td>\n",
       "      <td>3.0</td>\n",
       "      <td>2.0</td>\n",
       "      <td>3</td>\n",
       "      <td>7.0</td>\n",
       "      <td>11.0</td>\n",
       "    </tr>\n",
       "    <tr>\n",
       "      <th>5890</th>\n",
       "      <td>393805</td>\n",
       "      <td>2007</td>\n",
       "      <td>2017</td>\n",
       "      <td>8</td>\n",
       "      <td>868</td>\n",
       "      <td>13</td>\n",
       "      <td>terraced</td>\n",
       "      <td>individual_heating</td>\n",
       "      <td>management_in_trust</td>\n",
       "      <td>0.0</td>\n",
       "      <td>...</td>\n",
       "      <td>1.0</td>\n",
       "      <td>0.0</td>\n",
       "      <td>2.0</td>\n",
       "      <td>3.0</td>\n",
       "      <td>3.0</td>\n",
       "      <td>2.0</td>\n",
       "      <td>2.0</td>\n",
       "      <td>10</td>\n",
       "      <td>9.0</td>\n",
       "      <td>10.0</td>\n",
       "    </tr>\n",
       "  </tbody>\n",
       "</table>\n",
       "<p>5891 rows × 30 columns</p>\n",
       "</div>"
      ],
      "text/plain": [
       "      SalePrice  YearBuilt  YrSold  MonthSold  Size(sqf)  Floor HallwayType  \\\n",
       "0        141592       2006    2007          8        814      3    terraced   \n",
       "1         51327       1985    2007          8        587      8    corridor   \n",
       "2         48672       1985    2007          8        587      6    corridor   \n",
       "3        380530       2006    2007          8       2056      8    terraced   \n",
       "4        221238       1993    2007          8       1761      3       mixed   \n",
       "...         ...        ...     ...        ...        ...    ...         ...   \n",
       "5886     511504       2007    2017          8       1643     19    terraced   \n",
       "5887     298230       2006    2017          8        903     13    terraced   \n",
       "5888     357522       2007    2017          8        868     20    terraced   \n",
       "5889     312389       1978    2017          8       1327      1    corridor   \n",
       "5890     393805       2007    2017          8        868     13    terraced   \n",
       "\n",
       "             HeatingType        AptManageType  N_Parkinglot(Ground)  ...  \\\n",
       "0     individual_heating  management_in_trust                 111.0  ...   \n",
       "1     individual_heating      self_management                  80.0  ...   \n",
       "2     individual_heating      self_management                  80.0  ...   \n",
       "3     individual_heating  management_in_trust                 249.0  ...   \n",
       "4     individual_heating  management_in_trust                 523.0  ...   \n",
       "...                  ...                  ...                   ...  ...   \n",
       "5886  individual_heating  management_in_trust                   0.0  ...   \n",
       "5887  individual_heating  management_in_trust                 123.0  ...   \n",
       "5888  individual_heating  management_in_trust                   0.0  ...   \n",
       "5889  individual_heating      self_management                  87.0  ...   \n",
       "5890  individual_heating  management_in_trust                   0.0  ...   \n",
       "\n",
       "      N_FacilitiesNearBy(Mall) N_FacilitiesNearBy(ETC)  \\\n",
       "0                          1.0                     1.0   \n",
       "1                          1.0                     2.0   \n",
       "2                          1.0                     2.0   \n",
       "3                          1.0                     0.0   \n",
       "4                          1.0                     5.0   \n",
       "...                        ...                     ...   \n",
       "5886                       1.0                     0.0   \n",
       "5887                       1.0                     2.0   \n",
       "5888                       1.0                     0.0   \n",
       "5889                       1.0                     0.0   \n",
       "5890                       1.0                     0.0   \n",
       "\n",
       "     N_FacilitiesNearBy(Park)  N_SchoolNearBy(Elementary)  \\\n",
       "0                         0.0                         3.0   \n",
       "1                         1.0                         2.0   \n",
       "2                         1.0                         2.0   \n",
       "3                         0.0                         2.0   \n",
       "4                         0.0                         4.0   \n",
       "...                       ...                         ...   \n",
       "5886                      2.0                         3.0   \n",
       "5887                      0.0                         4.0   \n",
       "5888                      2.0                         3.0   \n",
       "5889                      0.0                         3.0   \n",
       "5890                      2.0                         3.0   \n",
       "\n",
       "      N_SchoolNearBy(Middle)  N_SchoolNearBy(High) N_SchoolNearBy(University)  \\\n",
       "0                        2.0                   2.0                        2.0   \n",
       "1                        1.0                   1.0                        0.0   \n",
       "2                        1.0                   1.0                        0.0   \n",
       "3                        2.0                   1.0                        2.0   \n",
       "4                        3.0                   5.0                        5.0   \n",
       "...                      ...                   ...                        ...   \n",
       "5886                     3.0                   2.0                        2.0   \n",
       "5887                     3.0                   3.0                        1.0   \n",
       "5888                     3.0                   2.0                        2.0   \n",
       "5889                     3.0                   3.0                        2.0   \n",
       "5890                     3.0                   2.0                        2.0   \n",
       "\n",
       "      N_FacilitiesInApt  N_FacilitiesNearBy(Total)  N_SchoolNearBy(Total)  \n",
       "0                     5                        6.0                    9.0  \n",
       "1                     3                       12.0                    4.0  \n",
       "2                     3                       12.0                    4.0  \n",
       "3                     5                        3.0                    7.0  \n",
       "4                     4                       14.0                   17.0  \n",
       "...                 ...                        ...                    ...  \n",
       "5886                 10                        9.0                   10.0  \n",
       "5887                  4                        8.0                   11.0  \n",
       "5888                 10                        9.0                   10.0  \n",
       "5889                  3                        7.0                   11.0  \n",
       "5890                 10                        9.0                   10.0  \n",
       "\n",
       "[5891 rows x 30 columns]"
      ]
     },
     "execution_count": 3,
     "metadata": {},
     "output_type": "execute_result"
    }
   ],
   "source": [
    "df"
   ]
  },
  {
   "cell_type": "code",
   "execution_count": 4,
   "id": "54f6d5dd",
   "metadata": {
    "ExecuteTime": {
     "end_time": "2021-05-27T19:40:11.366688Z",
     "start_time": "2021-05-27T19:40:11.363086Z"
    }
   },
   "outputs": [],
   "source": [
    "sale_price_mean = df.SalePrice.mean()\n",
    "sale_price_median = df.SalePrice.median()"
   ]
  },
  {
   "cell_type": "markdown",
   "id": "b0f76042",
   "metadata": {},
   "source": [
    "# Task 1\n",
    "\n",
    "Calculate the mean of the `SalePrice` column. Assign the mean value to the variable `sale_price_mean`."
   ]
  },
  {
   "cell_type": "code",
   "execution_count": 5,
   "id": "bd4a8a75",
   "metadata": {
    "ExecuteTime": {
     "end_time": "2021-05-27T19:40:11.369548Z",
     "start_time": "2021-05-27T19:40:11.367867Z"
    }
   },
   "outputs": [],
   "source": [
    "# Your code here\n"
   ]
  },
  {
   "cell_type": "markdown",
   "id": "938ec886",
   "metadata": {},
   "source": [
    "Run the cell belwo to check your work!"
   ]
  },
  {
   "cell_type": "code",
   "execution_count": 6,
   "id": "fbbce9fb",
   "metadata": {
    "ExecuteTime": {
     "end_time": "2021-05-27T19:40:11.684152Z",
     "start_time": "2021-05-27T19:40:11.680401Z"
    }
   },
   "outputs": [
    {
     "data": {
      "text/markdown": [
       "✅ **Hey, you did it.  Good job.**"
      ],
      "text/plain": [
       "<IPython.core.display.Markdown object>"
      ]
     },
     "metadata": {},
     "output_type": "display_data"
    }
   ],
   "source": [
    "test.run_test(sale_price_mean, 'mean')"
   ]
  },
  {
   "cell_type": "markdown",
   "id": "780d516d",
   "metadata": {},
   "source": [
    "# Task 2\n",
    "Calculate the median for the `SalePrice` column. Assign the median value to the variable `sale_price_median`."
   ]
  },
  {
   "cell_type": "code",
   "execution_count": 7,
   "id": "76cbf179",
   "metadata": {
    "ExecuteTime": {
     "end_time": "2021-05-27T19:40:12.962505Z",
     "start_time": "2021-05-27T19:40:12.960513Z"
    }
   },
   "outputs": [],
   "source": [
    "# Your code here"
   ]
  },
  {
   "cell_type": "markdown",
   "id": "6980460f",
   "metadata": {},
   "source": [
    "Run the cell below to check your work!"
   ]
  },
  {
   "cell_type": "code",
   "execution_count": 8,
   "id": "a2c9852c",
   "metadata": {
    "ExecuteTime": {
     "end_time": "2021-05-27T19:40:13.630494Z",
     "start_time": "2021-05-27T19:40:13.627239Z"
    }
   },
   "outputs": [
    {
     "data": {
      "text/markdown": [
       "✅ **Hey, you did it.  Good job.**"
      ],
      "text/plain": [
       "<IPython.core.display.Markdown object>"
      ]
     },
     "metadata": {},
     "output_type": "display_data"
    }
   ],
   "source": [
    "test.run_test(sale_price_median, 'median')"
   ]
  },
  {
   "cell_type": "markdown",
   "id": "17fa933d",
   "metadata": {},
   "source": [
    "# Task 3\n",
    "\n",
    "The mean and median are not the same. What does that tell us about the `SalePrice` data?"
   ]
  },
  {
   "cell_type": "markdown",
   "id": "e0837027",
   "metadata": {},
   "source": [
    "`Your answer here`"
   ]
  },
  {
   "cell_type": "markdown",
   "id": "34c06b73",
   "metadata": {},
   "source": [
    "# Task 4 \n",
    "\n",
    "Find the price for the smallest apartment in the dataset. Assign the price of this apartment to the variable `smallest_apartment_price`"
   ]
  },
  {
   "cell_type": "code",
   "execution_count": 9,
   "id": "cb930f02",
   "metadata": {
    "ExecuteTime": {
     "end_time": "2021-05-27T19:40:15.019278Z",
     "start_time": "2021-05-27T19:40:15.016961Z"
    }
   },
   "outputs": [],
   "source": [
    "# Your code here"
   ]
  },
  {
   "cell_type": "code",
   "execution_count": 10,
   "id": "8e411553",
   "metadata": {
    "ExecuteTime": {
     "end_time": "2021-05-27T19:40:15.490882Z",
     "start_time": "2021-05-27T19:40:15.385121Z"
    }
   },
   "outputs": [
    {
     "ename": "NameError",
     "evalue": "name 'smallest_apartment_price' is not defined",
     "output_type": "error",
     "traceback": [
      "\u001b[0;31m---------------------------------------------------------------------------\u001b[0m",
      "\u001b[0;31mNameError\u001b[0m                                 Traceback (most recent call last)",
      "\u001b[0;32m<ipython-input-10-c88f1150ad6f>\u001b[0m in \u001b[0;36m<module>\u001b[0;34m\u001b[0m\n\u001b[0;32m----> 1\u001b[0;31m \u001b[0mtest\u001b[0m\u001b[0;34m.\u001b[0m\u001b[0mrun_test\u001b[0m\u001b[0;34m(\u001b[0m\u001b[0msmallest_apartment_price\u001b[0m\u001b[0;34m,\u001b[0m \u001b[0;34m'small_price'\u001b[0m\u001b[0;34m)\u001b[0m\u001b[0;34m\u001b[0m\u001b[0;34m\u001b[0m\u001b[0m\n\u001b[0m",
      "\u001b[0;31mNameError\u001b[0m: name 'smallest_apartment_price' is not defined"
     ]
    }
   ],
   "source": [
    "test.run_test(smallest_apartment_price, 'small_price')"
   ]
  },
  {
   "cell_type": "markdown",
   "id": "4c5a8a62",
   "metadata": {},
   "source": [
    "# Task 5"
   ]
  },
  {
   "cell_type": "markdown",
   "id": "0fe3a4b6",
   "metadata": {},
   "source": [
    "Below is the distribution of SalePrices in this dataset. "
   ]
  },
  {
   "cell_type": "code",
   "execution_count": 11,
   "id": "86349a68",
   "metadata": {
    "ExecuteTime": {
     "end_time": "2021-05-27T19:40:21.091564Z",
     "start_time": "2021-05-27T19:40:20.554895Z"
    }
   },
   "outputs": [
    {
     "data": {
      "image/png": "[encoded data removed]",
      "text/plain": [
       "<Figure size 1080x432 with 1 Axes>"
      ]
     },
     "metadata": {
      "needs_background": "light"
     },
     "output_type": "display_data"
    }
   ],
   "source": [
    "# Run this cell unchanged\n",
    "df.SalePrice.hist(figsize=(15,6));"
   ]
  },
  {
   "cell_type": "markdown",
   "id": "3ea389a7",
   "metadata": {},
   "source": [
    "In the cell below, \n",
    "- Filter the dataframe so SalePrice does not contain values larger than 500,000 or smaller than 50,000.\n",
    "- Calculate the mean of SalePrice for this filtered dataframe. Assign this mean value to the variable `filtered_mean`."
   ]
  },
  {
   "cell_type": "code",
   "execution_count": 12,
   "id": "eaaf766d",
   "metadata": {
    "ExecuteTime": {
     "end_time": "2021-05-27T19:40:22.578091Z",
     "start_time": "2021-05-27T19:40:22.576218Z"
    }
   },
   "outputs": [],
   "source": [
    "# Your code here"
   ]
  },
  {
   "cell_type": "code",
   "execution_count": 43,
   "id": "7b3fa2bd",
   "metadata": {
    "ExecuteTime": {
     "end_time": "2021-05-27T19:00:30.799275Z",
     "start_time": "2021-05-27T19:00:30.796165Z"
    }
   },
   "outputs": [
    {
     "data": {
      "text/markdown": [
       "✅ **Hey, you did it.  Good job.**"
      ],
      "text/plain": [
       "<IPython.core.display.Markdown object>"
      ]
     },
     "metadata": {},
     "output_type": "display_data"
    }
   ],
   "source": [
    "test.run_test(filtered_mean, 'filtered_mean')"
   ]
  },
  {
   "cell_type": "markdown",
   "id": "d4c35165",
   "metadata": {
    "ExecuteTime": {
     "end_time": "2021-05-27T19:01:06.851039Z",
     "start_time": "2021-05-27T19:01:06.818970Z"
    }
   },
   "source": [
    "# Task 6\n",
    "\n",
    "How many years are found in this dataset? Assign the number of years to the variable `num_years`."
   ]
  },
  {
   "cell_type": "code",
   "execution_count": 13,
   "id": "21527290",
   "metadata": {
    "ExecuteTime": {
     "end_time": "2021-05-27T19:40:24.208472Z",
     "start_time": "2021-05-27T19:40:24.206354Z"
    }
   },
   "outputs": [],
   "source": [
    "# Your code here"
   ]
  },
  {
   "cell_type": "markdown",
   "id": "5866d86a",
   "metadata": {},
   "source": [
    "Run the cell below to check your work."
   ]
  },
  {
   "cell_type": "code",
   "execution_count": 60,
   "id": "df8e6280",
   "metadata": {
    "ExecuteTime": {
     "end_time": "2021-05-27T19:04:51.325262Z",
     "start_time": "2021-05-27T19:04:51.320837Z"
    }
   },
   "outputs": [
    {
     "data": {
      "text/markdown": [
       "✅ **Hey, you did it.  Good job.**"
      ],
      "text/plain": [
       "<IPython.core.display.Markdown object>"
      ]
     },
     "metadata": {},
     "output_type": "display_data"
    }
   ],
   "source": [
    "test.run_test(num_years, 'num_years')"
   ]
  },
  {
   "cell_type": "markdown",
   "id": "766b91fe",
   "metadata": {},
   "source": [
    "# Task 7"
   ]
  },
  {
   "cell_type": "markdown",
   "id": "b7862e96",
   "metadata": {
    "ExecuteTime": {
     "end_time": "2021-05-27T19:05:01.945822Z",
     "start_time": "2021-05-27T19:05:01.916496Z"
    }
   },
   "source": [
    "In the cell below, \n",
    "- Calculate how old the apartment was when it was sold. \n",
    "- Add this data as a new column to the dataframe.\n",
    "- Find the youngest apartment, and assign that apartment's sale price to a variable called `youngest_sold_price`."
   ]
  },
  {
   "cell_type": "code",
   "execution_count": 67,
   "id": "d83d6c4b",
   "metadata": {
    "ExecuteTime": {
     "end_time": "2021-05-27T19:10:23.844914Z",
     "start_time": "2021-05-27T19:10:23.839443Z"
    }
   },
   "outputs": [],
   "source": [
    "# Your code here"
   ]
  },
  {
   "cell_type": "code",
   "execution_count": 69,
   "id": "c581b9db",
   "metadata": {
    "ExecuteTime": {
     "end_time": "2021-05-27T19:10:40.163604Z",
     "start_time": "2021-05-27T19:10:40.159361Z"
    }
   },
   "outputs": [
    {
     "data": {
      "text/markdown": [
       "✅ **Hey, you did it.  Good job.**"
      ],
      "text/plain": [
       "<IPython.core.display.Markdown object>"
      ]
     },
     "metadata": {},
     "output_type": "display_data"
    }
   ],
   "source": [
    "test.run_test(youngest_sold_price, 'youngest_sold_price')"
   ]
  },
  {
   "cell_type": "markdown",
   "id": "27b62de4",
   "metadata": {},
   "source": [
    "# Task 8 \n",
    "\n",
    "In the cell below, compare the mean sale price of houses with `'individual_heating'` and houses with `'central_heating'`. Assign the heating type (string) with the highest average to the variable `priciest_heat_type`."
   ]
  },
  {
   "cell_type": "code",
   "execution_count": 24,
   "id": "40a71712",
   "metadata": {
    "ExecuteTime": {
     "end_time": "2021-05-27T19:44:31.511094Z",
     "start_time": "2021-05-27T19:44:31.505402Z"
    }
   },
   "outputs": [],
   "source": [
    "# Your code here"
   ]
  },
  {
   "cell_type": "code",
   "execution_count": 26,
   "id": "12dbb8e3",
   "metadata": {
    "ExecuteTime": {
     "end_time": "2021-05-27T19:45:07.833809Z",
     "start_time": "2021-05-27T19:45:07.830292Z"
    }
   },
   "outputs": [
    {
     "data": {
      "text/markdown": [
       "✅ **Hey, you did it.  Good job.**"
      ],
      "text/plain": [
       "<IPython.core.display.Markdown object>"
      ]
     },
     "metadata": {},
     "output_type": "display_data"
    }
   ],
   "source": [
    "test.run_test(priciest_heat_type, 'heat_type')"
   ]
  },
  {
   "cell_type": "markdown",
   "id": "a3b800e5",
   "metadata": {},
   "source": [
    "# Task 9\n",
    "\n",
    "In the cell below, we import a new dataset that contains individual stock data for multiple years."
   ]
  },
  {
   "cell_type": "code",
   "execution_count": 29,
   "id": "09f12776",
   "metadata": {
    "ExecuteTime": {
     "end_time": "2021-05-27T19:46:44.972714Z",
     "start_time": "2021-05-27T19:46:43.941163Z"
    }
   },
   "outputs": [],
   "source": [
    "import json\n",
    "\n",
    "file = open('stock_data.json', 'r')\n",
    "stock_data = json.load(file)\n",
    "file.close()"
   ]
  },
  {
   "cell_type": "markdown",
   "id": "54076cbb",
   "metadata": {},
   "source": [
    "Below we output the first 3 observations in the dataset."
   ]
  },
  {
   "cell_type": "code",
   "execution_count": 31,
   "id": "e74df635",
   "metadata": {
    "ExecuteTime": {
     "end_time": "2021-05-27T19:47:34.442437Z",
     "start_time": "2021-05-27T19:47:34.438527Z"
    }
   },
   "outputs": [
    {
     "data": {
      "text/plain": [
       "[{'date': '2013-02-08',\n",
       "  'open': 15.07,\n",
       "  'high': 15.12,\n",
       "  'low': 14.63,\n",
       "  'close': 14.75,\n",
       "  'volume': 8407500,\n",
       "  'Name': 'AAL'},\n",
       " {'date': '2013-02-11',\n",
       "  'open': 14.89,\n",
       "  'high': 15.01,\n",
       "  'low': 14.26,\n",
       "  'close': 14.46,\n",
       "  'volume': 8882000,\n",
       "  'Name': 'AAL'},\n",
       " {'date': '2013-02-12',\n",
       "  'open': 14.45,\n",
       "  'high': 14.51,\n",
       "  'low': 14.1,\n",
       "  'close': 14.27,\n",
       "  'volume': 8126000,\n",
       "  'Name': 'AAL'}]"
      ]
     },
     "execution_count": 31,
     "metadata": {},
     "output_type": "execute_result"
    }
   ],
   "source": [
    "stock_data[:3]"
   ]
  },
  {
   "cell_type": "markdown",
   "id": "e09b6c8d",
   "metadata": {},
   "source": [
    "In the cell below, describe how this dataset is structured."
   ]
  },
  {
   "cell_type": "markdown",
   "id": "3cb9a35e",
   "metadata": {},
   "source": [
    "`Your answer here`."
   ]
  },
  {
   "cell_type": "markdown",
   "id": "67b2780c",
   "metadata": {},
   "source": [
    "# Task 10"
   ]
  },
  {
   "cell_type": "markdown",
   "id": "8dfafb06",
   "metadata": {},
   "source": [
    "In the cell below, set the variable `first_observation_date` to the date value in the first dictionary. "
   ]
  },
  {
   "cell_type": "code",
   "execution_count": null,
   "id": "7679b8e8",
   "metadata": {},
   "outputs": [],
   "source": [
    "# Your code here"
   ]
  },
  {
   "cell_type": "code",
   "execution_count": 32,
   "id": "d6325aac",
   "metadata": {
    "ExecuteTime": {
     "end_time": "2021-05-27T19:50:15.803388Z",
     "start_time": "2021-05-27T19:50:15.801137Z"
    }
   },
   "outputs": [],
   "source": [
    "first_observation_date = stock_data[0]['date']"
   ]
  },
  {
   "cell_type": "markdown",
   "id": "758231c2",
   "metadata": {},
   "source": [
    "Run the cell below to check your work."
   ]
  },
  {
   "cell_type": "code",
   "execution_count": 36,
   "id": "e2bd5826",
   "metadata": {
    "ExecuteTime": {
     "end_time": "2021-05-27T19:51:03.560470Z",
     "start_time": "2021-05-27T19:51:03.556716Z"
    }
   },
   "outputs": [
    {
     "data": {
      "text/markdown": [
       "✅ **Hey, you did it.  Good job.**"
      ],
      "text/plain": [
       "<IPython.core.display.Markdown object>"
      ]
     },
     "metadata": {},
     "output_type": "display_data"
    }
   ],
   "source": [
    "test.run_test(first_observation_date, 'first_date')"
   ]
  },
  {
   "cell_type": "markdown",
   "id": "d6bcfefb",
   "metadata": {},
   "source": [
    "# Task 11"
   ]
  },
  {
   "cell_type": "markdown",
   "id": "a3929c43",
   "metadata": {},
   "source": [
    "The year is always the first four characters for each date value. \n",
    "\n",
    "In the cell below, define a function called `get_year` that will receive a date, and output the year as an integer. "
   ]
  },
  {
   "cell_type": "code",
   "execution_count": null,
   "id": "ebbce5cf",
   "metadata": {},
   "outputs": [],
   "source": [
    "# Your code here"
   ]
  },
  {
   "cell_type": "code",
   "execution_count": 43,
   "id": "eda664a1",
   "metadata": {
    "ExecuteTime": {
     "end_time": "2021-05-27T20:06:31.768355Z",
     "start_time": "2021-05-27T20:06:31.762517Z"
    }
   },
   "outputs": [],
   "source": [
    "class GetYearTest:\n",
    "    def __init__(self, answer):\n",
    "        self.answer = answer\n",
    "        \n",
    "    def test_if_function(self, output=True):\n",
    "        from types import FunctionType\n",
    "        if type(self.answer) == FunctionType:\n",
    "            return '✅ Your function was defined correctly.'\n",
    "        else:\n",
    "            return '🚫 Your function was not defined correctly.'\n",
    "        \n",
    "    def test_for_errors(self):\n",
    "        try:\n",
    "            self.answer('2013-02-08')\n",
    "            return True\n",
    "        except:\n",
    "            return False\n",
    "        \n",
    "    def test_output_type(self):\n",
    "        if type(self.answer('2013-02-08')) != int:\n",
    "            return False\n",
    "        else:\n",
    "            return True\n",
    "    \n",
    "    def test_output(self, output=True):\n",
    "        if int(self.answer('2016-02-08')) != 2016:\n",
    "            result = self.answer('2013-02-08')\n",
    "            return f'🚫 Your function returned {result} when given the string \"2016-02-08\" but should have returned 2016'\n",
    "        \n",
    "        if int(self.answer('2018-06-02')) != 2018:\n",
    "            result = self.answer('2018-06-02')\n",
    "            return f'🚫 Your function returned {result} when given the string \"2018-06-02\" but should have returned 2018'\n",
    "        \n",
    "        return '✅ Your function returned the correct outputs!'\n",
    "            "
   ]
  },
  {
   "cell_type": "code",
   "execution_count": 51,
   "id": "69a452c8",
   "metadata": {
    "ExecuteTime": {
     "end_time": "2021-05-27T20:08:13.260409Z",
     "start_time": "2021-05-27T20:08:13.253711Z"
    }
   },
   "outputs": [
    {
     "data": {
      "text/markdown": [
       "**test_if_function:** ✅ Your function was defined correctly."
      ],
      "text/plain": [
       "<IPython.core.display.Markdown object>"
      ]
     },
     "metadata": {},
     "output_type": "display_data"
    },
    {
     "data": {
      "text/markdown": [
       "**test_for_errors:** ✅"
      ],
      "text/plain": [
       "<IPython.core.display.Markdown object>"
      ]
     },
     "metadata": {},
     "output_type": "display_data"
    },
    {
     "data": {
      "text/markdown": [
       "**test_output_type:** ✅"
      ],
      "text/plain": [
       "<IPython.core.display.Markdown object>"
      ]
     },
     "metadata": {},
     "output_type": "display_data"
    },
    {
     "data": {
      "text/markdown": [
       "**test_output:** ✅ Your function returned the correct outputs!"
      ],
      "text/plain": [
       "<IPython.core.display.Markdown object>"
      ]
     },
     "metadata": {},
     "output_type": "display_data"
    }
   ],
   "source": [
    "function_test.run('GetYearTest', get_year)"
   ]
  },
  {
   "cell_type": "markdown",
   "id": "1b3529dc",
   "metadata": {},
   "source": [
    "# Task 12"
   ]
  },
  {
   "cell_type": "markdown",
   "id": "a2ba8364",
   "metadata": {},
   "source": [
    "In the cell below, using the `get_year function`, create a list called `years` that contains the year for every observation in the `stock_data` dataset."
   ]
  },
  {
   "cell_type": "code",
   "execution_count": null,
   "id": "300cc7f7",
   "metadata": {},
   "outputs": [],
   "source": [
    "# Your code here"
   ]
  },
  {
   "cell_type": "code",
   "execution_count": 55,
   "id": "3023ce0e",
   "metadata": {
    "ExecuteTime": {
     "end_time": "2021-05-27T20:10:30.571161Z",
     "start_time": "2021-05-27T20:10:30.526385Z"
    }
   },
   "outputs": [
    {
     "data": {
      "text/markdown": [
       "✅ **Hey, you did it.  Good job.**"
      ],
      "text/plain": [
       "<IPython.core.display.Markdown object>"
      ]
     },
     "metadata": {},
     "output_type": "display_data"
    }
   ],
   "source": [
    "test.run_test(years, 'years')"
   ]
  }
 ],
 "metadata": {
  "kernelspec": {
   "display_name": "Python 3",
   "language": "python",
   "name": "python3"
  },
  "language_info": {
   "codemirror_mode": {
    "name": "ipython",
    "version": 3
   },
   "file_extension": ".py",
   "mimetype": "text/x-python",
   "name": "python",
   "nbconvert_exporter": "python",
   "pygments_lexer": "ipython3",
   "version": "3.7.4"
  },
  "toc": {
   "base_numbering": 1,
   "nav_menu": {},
   "number_sections": false,
   "sideBar": true,
   "skip_h1_title": false,
   "title_cell": "Table of Contents",
   "title_sidebar": "Contents",
   "toc_cell": false,
   "toc_position": {},
   "toc_section_display": true,
   "toc_window_display": false
  }
 },
 "nbformat": 4,
 "nbformat_minor": 5
}
