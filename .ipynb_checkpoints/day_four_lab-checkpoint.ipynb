{
 "cells": [
  {
   "cell_type": "code",
   "execution_count": null,
   "metadata": {
    "ExecuteTime": {
     "end_time": "2021-05-27T19:53:17.238853Z",
     "start_time": "2021-05-27T19:53:17.235768Z"
    }
   },
   "outputs": [],
   "source": [
    "!pip install dscreate -q\n",
    "import pandas as pd\n",
    "from dscreate.tests import Tests\n",
    "from test_script import Test\n",
    "test = Test()\n",
    "function_test = Tests()"
   ]
  },
  {
   "cell_type": "code",
   "execution_count": null,
   "metadata": {
    "ExecuteTime": {
     "end_time": "2021-05-27T19:40:11.310270Z",
     "start_time": "2021-05-27T19:40:11.276264Z"
    }
   },
   "outputs": [],
   "source": [
    "df = pd.read_csv('Daegu_Real_Estate_data.csv')"
   ]
  },
  {
   "cell_type": "markdown",
   "metadata": {},
   "source": [
    "# Task 1\n",
    "\n",
    "Calculate the mean of the `SalePrice` column. Assign the mean value to the variable `sale_price_mean`."
   ]
  },
  {
   "cell_type": "code",
   "execution_count": null,
   "metadata": {
    "ExecuteTime": {
     "end_time": "2021-05-27T19:40:11.369548Z",
     "start_time": "2021-05-27T19:40:11.367867Z"
    }
   },
   "outputs": [],
   "source": [
    "# Your code here\n"
   ]
  },
  {
   "cell_type": "markdown",
   "metadata": {},
   "source": [
    "Run the cell belwo to check your work!"
   ]
  },
  {
   "cell_type": "code",
   "execution_count": null,
   "metadata": {
    "ExecuteTime": {
     "end_time": "2021-05-27T19:40:11.684152Z",
     "start_time": "2021-05-27T19:40:11.680401Z"
    }
   },
   "outputs": [],
   "source": [
    "test.run_test(sale_price_mean, 'mean')"
   ]
  },
  {
   "cell_type": "markdown",
   "metadata": {},
   "source": [
    "# Task 2\n",
    "Calculate the median for the `SalePrice` column. Assign the median value to the variable `sale_price_median`."
   ]
  },
  {
   "cell_type": "code",
   "execution_count": null,
   "metadata": {
    "ExecuteTime": {
     "end_time": "2021-05-27T19:40:12.962505Z",
     "start_time": "2021-05-27T19:40:12.960513Z"
    }
   },
   "outputs": [],
   "source": [
    "# Your code here"
   ]
  },
  {
   "cell_type": "markdown",
   "metadata": {},
   "source": [
    "Run the cell below to check your work!"
   ]
  },
  {
   "cell_type": "code",
   "execution_count": null,
   "metadata": {
    "ExecuteTime": {
     "end_time": "2021-05-27T19:40:13.630494Z",
     "start_time": "2021-05-27T19:40:13.627239Z"
    }
   },
   "outputs": [],
   "source": [
    "test.run_test(sale_price_median, 'median')"
   ]
  },
  {
   "cell_type": "markdown",
   "metadata": {},
   "source": [
    "# Task 3\n",
    "\n",
    "The mean and median are not the same. What does that tell us about the `SalePrice` data?"
   ]
  },
  {
   "cell_type": "markdown",
   "metadata": {},
   "source": [
    "`Your answer here`"
   ]
  },
  {
   "cell_type": "markdown",
   "metadata": {},
   "source": [
    "# Task 4 \n",
    "\n",
    "Find the price for the smallest apartment in the dataset. Assign the price of this apartment to the variable `smallest_apartment_price`"
   ]
  },
  {
   "cell_type": "code",
   "execution_count": null,
   "metadata": {
    "ExecuteTime": {
     "end_time": "2021-05-27T19:40:15.019278Z",
     "start_time": "2021-05-27T19:40:15.016961Z"
    }
   },
   "outputs": [],
   "source": [
    "# Your code here"
   ]
  },
  {
   "cell_type": "code",
   "execution_count": null,
   "metadata": {
    "ExecuteTime": {
     "end_time": "2021-05-27T19:40:15.490882Z",
     "start_time": "2021-05-27T19:40:15.385121Z"
    }
   },
   "outputs": [],
   "source": [
    "test.run_test(smallest_apartment_price, 'small_price')"
   ]
  },
  {
   "cell_type": "markdown",
   "metadata": {},
   "source": [
    "# Task 5"
   ]
  },
  {
   "cell_type": "markdown",
   "metadata": {},
   "source": [
    "Below is the distribution of SalePrices in this dataset. "
   ]
  },
  {
   "cell_type": "code",
   "execution_count": null,
   "metadata": {
    "ExecuteTime": {
     "end_time": "2021-05-27T19:40:21.091564Z",
     "start_time": "2021-05-27T19:40:20.554895Z"
    }
   },
   "outputs": [],
   "source": [
    "# Run this cell unchanged\n",
    "df.SalePrice.hist(figsize=(15,6));"
   ]
  },
  {
   "cell_type": "markdown",
   "metadata": {},
   "source": [
    "In the cell below, \n",
    "- Filter the dataframe so SalePrice does not contain values larger than 500,000 or smaller than 50,000.\n",
    "- Calculate the mean of SalePrice for this filtered dataframe. Assign this mean value to the variable `filtered_mean`."
   ]
  },
  {
   "cell_type": "code",
   "execution_count": null,
   "metadata": {
    "ExecuteTime": {
     "end_time": "2021-05-27T19:40:22.578091Z",
     "start_time": "2021-05-27T19:40:22.576218Z"
    }
   },
   "outputs": [],
   "source": [
    "# Your code here"
   ]
  },
  {
   "cell_type": "code",
   "execution_count": null,
   "metadata": {
    "ExecuteTime": {
     "end_time": "2021-05-27T19:00:30.799275Z",
     "start_time": "2021-05-27T19:00:30.796165Z"
    }
   },
   "outputs": [],
   "source": [
    "test.run_test(filtered_mean, 'filtered_mean')"
   ]
  },
  {
   "cell_type": "markdown",
   "metadata": {
    "ExecuteTime": {
     "end_time": "2021-05-27T19:01:06.851039Z",
     "start_time": "2021-05-27T19:01:06.818970Z"
    }
   },
   "source": [
    "# Task 6\n",
    "\n",
    "How many years are found in this dataset? Assign the number of years to the variable `num_years`."
   ]
  },
  {
   "cell_type": "code",
   "execution_count": null,
   "metadata": {
    "ExecuteTime": {
     "end_time": "2021-05-27T19:40:24.208472Z",
     "start_time": "2021-05-27T19:40:24.206354Z"
    }
   },
   "outputs": [],
   "source": [
    "# Your code here"
   ]
  },
  {
   "cell_type": "markdown",
   "metadata": {},
   "source": [
    "Run the cell below to check your work."
   ]
  },
  {
   "cell_type": "code",
   "execution_count": null,
   "metadata": {
    "ExecuteTime": {
     "end_time": "2021-05-27T19:04:51.325262Z",
     "start_time": "2021-05-27T19:04:51.320837Z"
    }
   },
   "outputs": [],
   "source": [
    "test.run_test(num_years, 'num_years')"
   ]
  },
  {
   "cell_type": "markdown",
   "metadata": {},
   "source": [
    "# Task 7"
   ]
  },
  {
   "cell_type": "markdown",
   "metadata": {
    "ExecuteTime": {
     "end_time": "2021-05-27T19:05:01.945822Z",
     "start_time": "2021-05-27T19:05:01.916496Z"
    }
   },
   "source": [
    "In the cell below, \n",
    "- Calculate how old the apartment was when it was sold. \n",
    "- Add this data as a new column to the dataframe.\n",
    "- Find the youngest apartment, and assign that apartment's sale price to a variable called `youngest_sold_price`."
   ]
  },
  {
   "cell_type": "code",
   "execution_count": null,
   "metadata": {
    "ExecuteTime": {
     "end_time": "2021-05-27T19:10:23.844914Z",
     "start_time": "2021-05-27T19:10:23.839443Z"
    }
   },
   "outputs": [],
   "source": [
    "# Your code here"
   ]
  },
  {
   "cell_type": "code",
   "execution_count": null,
   "metadata": {
    "ExecuteTime": {
     "end_time": "2021-05-27T19:10:40.163604Z",
     "start_time": "2021-05-27T19:10:40.159361Z"
    }
   },
   "outputs": [],
   "source": [
    "test.run_test(youngest_sold_price, 'youngest_sold_price')"
   ]
  },
  {
   "cell_type": "markdown",
   "metadata": {},
   "source": [
    "# Task 8 \n",
    "\n",
    "In the cell below, compare the mean sale price of houses with `'individual_heating'` and houses with `'central_heating'`. Assign the heating type (string) with the highest average to the variable `priciest_heat_type`."
   ]
  },
  {
   "cell_type": "code",
   "execution_count": null,
   "metadata": {
    "ExecuteTime": {
     "end_time": "2021-05-27T19:44:31.511094Z",
     "start_time": "2021-05-27T19:44:31.505402Z"
    }
   },
   "outputs": [],
   "source": [
    "# Your code here"
   ]
  },
  {
   "cell_type": "code",
   "execution_count": null,
   "metadata": {
    "ExecuteTime": {
     "end_time": "2021-05-27T19:45:07.833809Z",
     "start_time": "2021-05-27T19:45:07.830292Z"
    }
   },
   "outputs": [],
   "source": [
    "test.run_test(priciest_heat_type, 'heat_type')"
   ]
  },
  {
   "cell_type": "markdown",
   "metadata": {},
   "source": [
    "# Task 9\n",
    "\n",
    "In the cell below, we import a new dataset that contains individual stock data for multiple years."
   ]
  },
  {
   "cell_type": "code",
   "execution_count": null,
   "metadata": {
    "ExecuteTime": {
     "end_time": "2021-05-27T19:46:44.972714Z",
     "start_time": "2021-05-27T19:46:43.941163Z"
    }
   },
   "outputs": [],
   "source": [
    "import json\n",
    "\n",
    "file = open('stock_data.json', 'r')\n",
    "stock_data = json.load(file)\n",
    "file.close()"
   ]
  },
  {
   "cell_type": "markdown",
   "metadata": {},
   "source": [
    "Below we output the first 3 observations in the dataset."
   ]
  },
  {
   "cell_type": "code",
   "execution_count": null,
   "metadata": {
    "ExecuteTime": {
     "end_time": "2021-05-27T19:47:34.442437Z",
     "start_time": "2021-05-27T19:47:34.438527Z"
    }
   },
   "outputs": [],
   "source": [
    "stock_data[:3]"
   ]
  },
  {
   "cell_type": "markdown",
   "metadata": {},
   "source": [
    "In the cell below, describe how this dataset is structured."
   ]
  },
  {
   "cell_type": "markdown",
   "metadata": {},
   "source": [
    "`Your answer here`."
   ]
  },
  {
   "cell_type": "markdown",
   "metadata": {},
   "source": [
    "# Task 10"
   ]
  },
  {
   "cell_type": "markdown",
   "metadata": {},
   "source": [
    "In the cell below, set the variable `first_observation_date` to the date value in the first dictionary. "
   ]
  },
  {
   "cell_type": "code",
   "execution_count": null,
   "metadata": {},
   "outputs": [],
   "source": [
    "# Your code here"
   ]
  },
  {
   "cell_type": "code",
   "execution_count": null,
   "metadata": {
    "ExecuteTime": {
     "end_time": "2021-05-27T19:50:15.803388Z",
     "start_time": "2021-05-27T19:50:15.801137Z"
    }
   },
   "outputs": [],
   "source": [
    "first_observation_date = stock_data[0]['date']"
   ]
  },
  {
   "cell_type": "markdown",
   "metadata": {},
   "source": [
    "Run the cell below to check your work."
   ]
  },
  {
   "cell_type": "code",
   "execution_count": null,
   "metadata": {
    "ExecuteTime": {
     "end_time": "2021-05-27T19:51:03.560470Z",
     "start_time": "2021-05-27T19:51:03.556716Z"
    }
   },
   "outputs": [],
   "source": [
    "test.run_test(first_observation_date, 'first_date')"
   ]
  },
  {
   "cell_type": "markdown",
   "metadata": {},
   "source": [
    "# Task 11"
   ]
  },
  {
   "cell_type": "markdown",
   "metadata": {},
   "source": [
    "The year is always the first four characters for each date value. \n",
    "\n",
    "In the cell below, define a function called `get_year` that will receive a date, and output the year as an integer. "
   ]
  },
  {
   "cell_type": "code",
   "execution_count": null,
   "metadata": {},
   "outputs": [],
   "source": [
    "# Your code here"
   ]
  },
  {
   "cell_type": "markdown",
   "metadata": {},
   "source": [
    "Run the cell below to check your work."
   ]
  },
  {
   "cell_type": "code",
   "execution_count": null,
   "metadata": {
    "ExecuteTime": {
     "end_time": "2021-05-27T20:08:13.260409Z",
     "start_time": "2021-05-27T20:08:13.253711Z"
    }
   },
   "outputs": [],
   "source": [
    "function_test.run('GetYearTest', get_year)"
   ]
  },
  {
   "cell_type": "markdown",
   "metadata": {},
   "source": [
    "# Task 12"
   ]
  },
  {
   "cell_type": "markdown",
   "metadata": {},
   "source": [
    "In the cell below, using the `get_year function`, create a list called `years` that contains the year for every observation in the `stock_data` dataset."
   ]
  },
  {
   "cell_type": "code",
   "execution_count": null,
   "metadata": {},
   "outputs": [],
   "source": [
    "# Your code here"
   ]
  },
  {
   "cell_type": "code",
   "execution_count": null,
   "metadata": {
    "ExecuteTime": {
     "end_time": "2021-05-27T20:10:30.571161Z",
     "start_time": "2021-05-27T20:10:30.526385Z"
    }
   },
   "outputs": [],
   "source": [
    "test.run_test(years, 'years')"
   ]
  }
 ],
 "metadata": {
  "kernelspec": {
   "display_name": "Python 3",
   "language": "python",
   "name": "python3"
  },
  "language_info": {
   "codemirror_mode": {
    "name": "ipython",
    "version": 3
   },
   "file_extension": ".py",
   "mimetype": "text/x-python",
   "name": "python",
   "nbconvert_exporter": "python",
   "pygments_lexer": "ipython3",
   "version": "3.8.5"
  },
  "toc": {
   "base_numbering": 1,
   "nav_menu": {},
   "number_sections": false,
   "sideBar": true,
   "skip_h1_title": false,
   "title_cell": "Table of Contents",
   "title_sidebar": "Contents",
   "toc_cell": false,
   "toc_position": {},
   "toc_section_display": true,
   "toc_window_display": false
  }
 },
 "nbformat": 4,
 "nbformat_minor": 5
}
